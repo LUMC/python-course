{
 "cells": [
  {
   "cell_type": "markdown",
   "metadata": {},
   "source": [
    "# Exploring Jupyter Notebook"
   ]
  },
  {
   "cell_type": "markdown",
   "metadata": {},
   "source": [
    "Mark Santcroos, Department of Human Genetics, Leiden University Medical Center\n",
    "\n",
    "Examples and ideas taken from: [Jupyter Documentation](https://jupyter.readthedocs.io/en/latest/index.html), [The role of computing in science](http://www.socrates.if.usp.br/~wtc/?q=role-computing-science), and an earlier version of this lecture by Michiel van Galen.\n",
    "\n",
    "License: [Creative Commons Attribution 3.0 License (CC-by)](http://creativecommons.org/licenses/by/3.0)"
   ]
  },
  {
   "cell_type": "markdown",
   "metadata": {},
   "source": [
    "# Introduction"
   ]
  },
  {
   "cell_type": "markdown",
   "metadata": {},
   "source": [
    "## Requirements on scientific computing"
   ]
  },
  {
   "cell_type": "markdown",
   "metadata": {},
   "source": [
    "\"High-profile journals have called for increased openness in computational sciences. Some prestigious journals, including Science, have even started to demand of authors to provide the source code for simulation software used in publications to readers upon request.\"\n",
    "\n",
    "- Reproducible Research in Computational Science, Roger D. Peng, Science 334, 1226 (2011).\n",
    "\n",
    "- Shining Light into Black Boxes, A. Morin et al., Science 336, 159-160 (2012).\n",
    "\n",
    "- The case for open computer programs, D.C. Ince, Nature 482, 485 (2012).\n",
    "\n",
    "### The cornerstone of the scientific method\n",
    "- Replication & Reproduction\n",
    "\n",
    "### To achieve this in scientific computing (programming)\n",
    "\n",
    "Any source code which generates data should be:\n",
    "- Tracked! (e.g. git)\n",
    "- Backed up and secured\n",
    "- Ideally published online\n",
    "- Additionally: Also track external software versions and settings"
   ]
  },
  {
   "cell_type": "markdown",
   "metadata": {},
   "source": [
    "# Jupyter Notebook to the rescue\n",
    "\n",
    "\"Web-based **interactive** computational environment where you can combine **code** execution, **text**, mathematics, **plots** and rich media into a **single** document.\""
   ]
  },
  {
   "cell_type": "markdown",
   "metadata": {},
   "source": [
    "## Multiple ways to launch python"
   ]
  },
  {
   "cell_type": "markdown",
   "metadata": {
    "slideshow": {
     "slide_type": "-"
    }
   },
   "source": [
    "- python (interactive)\n",
    "- python script.py\n",
    "- ipython\n",
    "- IDE (integrated development environment), e.g. Spyder\n",
    "- Jupyter notebook (used to be called ipython notebook)"
   ]
  },
  {
   "cell_type": "markdown",
   "metadata": {},
   "source": [
    "## What is it?"
   ]
  },
  {
   "cell_type": "markdown",
   "metadata": {},
   "source": [
    "- Cell based executable workflow\n",
    "- Interactive computational documents\n",
    "- Add elegant explanatory text\n",
    "- Direct output of computations\n",
    "- Add figures and video\n",
    "- Integration in Git\n",
    "- Export your notebooks to PDF or HTML (nbconvert)\n",
    "- Share notebooks easily with [nbviewer](http://nbviewer.jupyter.org/) or [LUMC Gitlab](https://git.lumc.nl)"
   ]
  },
  {
   "cell_type": "markdown",
   "metadata": {},
   "source": [
    "## The notebook user interface\n",
    "- Cell based workflow\n",
    "- Move between cells with the arrow keys or clicks with the mouse\n",
    "\n",
    "There are two different modes from which always one is active\n",
    "- Edit mode\n",
    "  - Hit ENTER or click the edit area to change to edit mode\n",
    "  - Indicated with a **green** cell border\n",
    "  - Edit your cell as if a normal text editor\n",
    "- Command mode\n",
    "  - Hit ESCAPE to change into command mode\n",
    "  - Indicated with a **grey** cell border\n",
    "  - Edit the notebook as a whole\n",
    "    \n",
    "## Shortcuts\n",
    "\n",
    "Note: Different shortcuts apply in both modes!\n",
    "\n",
    "- Edit mode shortcuts:\n",
    "    - esc : command mode\n",
    "    - shift+enter : run cell, select below\n",
    "    - ctrl+enter : run cell\n",
    "\n",
    "- Command mode shortcuts\n",
    "    - enter : edit mode\n",
    "    - shift+enter : run cell\n",
    "    - ctrl+enter : run cell, select below\n",
    "    - y : to code\n",
    "    - m : to markdown\n",
    "    - k : move cell up\n",
    "    - j : move cell down\n",
    "    - a : insert cell above\n",
    "    - b : insert cell below\n",
    "    - x : cut cell\n",
    "    - c : copy cell\n",
    "    - v : paste cell below\n",
    "    - z : undo last delete\n",
    "    - d : delete cell (press twice)\n",
    "    \n",
    "    - Press 'h' to show the help."
   ]
  },
  {
   "cell_type": "markdown",
   "metadata": {},
   "source": [
    "## Architecture"
   ]
  },
  {
   "cell_type": "markdown",
   "metadata": {
    "slideshow": {
     "slide_type": "slide"
    }
   },
   "source": [
    "![architecture](https://jupyter.readthedocs.io/en/latest/_images/repos_map.png)"
   ]
  },
  {
   "cell_type": "markdown",
   "metadata": {},
   "source": [
    "# Installation"
   ]
  },
  {
   "cell_type": "markdown",
   "metadata": {},
   "source": [
    "- [Official Installing Jupyter Procedure](https://jupyter.readthedocs.io/en/latest/install.html)\n",
    "- We already have it, it comes shipped with Anaconda"
   ]
  },
  {
   "cell_type": "code",
   "execution_count": 5,
   "metadata": {},
   "outputs": [],
   "source": [
    "### !! Exercise !!\n",
    "###\n",
    "### Launch Jupyter on your own machine, and create a new notebook\n",
    "###"
   ]
  },
  {
   "cell_type": "markdown",
   "metadata": {},
   "source": [
    "# Cells"
   ]
  },
  {
   "cell_type": "markdown",
   "metadata": {},
   "source": [
    "Two different cell types:\n",
    "\n",
    "- Code cell\n",
    "  - Contains code\n",
    "  - Inline comments\n",
    "  - Python or system calls\n",
    "  \n",
    " "
   ]
  },
  {
   "cell_type": "code",
   "execution_count": 6,
   "metadata": {},
   "outputs": [],
   "source": [
    "# This is a code cell\n",
    "z = 42"
   ]
  },
  {
   "cell_type": "code",
   "execution_count": 7,
   "metadata": {},
   "outputs": [],
   "source": [
    "### !! Exercise !!\n",
    "###\n",
    "### Create a code cell and run some code\n",
    "###"
   ]
  },
  {
   "cell_type": "markdown",
   "metadata": {},
   "source": [
    "- Markdown cell\n",
    "  - Format your notebook "
   ]
  },
  {
   "cell_type": "markdown",
   "metadata": {},
   "source": [
    "This is a markdown cell which allows to format your document nicely and add context to code cells."
   ]
  },
  {
   "cell_type": "markdown",
   "metadata": {},
   "source": [
    "Set the cell type of the selected cell\n",
    "- Select the type from the dropdown box in the toolbar\n",
    "- In command mode only: Press '**y**' for code or '**m**' for markdown"
   ]
  },
  {
   "cell_type": "markdown",
   "metadata": {},
   "source": [
    "## Code cells"
   ]
  },
  {
   "cell_type": "markdown",
   "metadata": {},
   "source": [
    "- Any piece of python code can be ran.\n",
    "- The result is persistent.\n",
    "- Cells can be executed in artibrary order.\n"
   ]
  },
  {
   "cell_type": "markdown",
   "metadata": {},
   "source": [
    "### Auto-completion"
   ]
  },
  {
   "cell_type": "code",
   "execution_count": 8,
   "metadata": {},
   "outputs": [],
   "source": [
    "import numpy"
   ]
  },
  {
   "cell_type": "code",
   "execution_count": 9,
   "metadata": {},
   "outputs": [
    {
     "data": {
      "text/plain": [
       "0.11844196498815729"
      ]
     },
     "execution_count": 9,
     "metadata": {},
     "output_type": "execute_result"
    }
   ],
   "source": [
    "# numpy.rand <TAB>\n",
    "numpy.random.random()"
   ]
  },
  {
   "cell_type": "code",
   "execution_count": 10,
   "metadata": {},
   "outputs": [
    {
     "data": {
      "text/plain": [
       "<module 'numpy.random' from '/home/mlefter/.pyenv/versions/3.11.3/envs/pcourse/lib/python3.11/site-packages/numpy/random/__init__.py'>"
      ]
     },
     "execution_count": 10,
     "metadata": {},
     "output_type": "execute_result"
    }
   ],
   "source": [
    "# numpy.random <SHIFT-TAB>\n",
    "numpy.random\n",
    "# Type:        module\n",
    "# String form: <module 'numpy.random' from '/Users/mark/anaconda/lib/python2.7/site-packages/numpy/random/__init__.pyc'>\n",
    "# File:        ~/anaconda/lib/python2.7/site-packages/numpy/random/__init__.py"
   ]
  },
  {
   "cell_type": "code",
   "execution_count": 11,
   "metadata": {},
   "outputs": [],
   "source": [
    "### !! Exercise !!\n",
    "###\n",
    "### Explore tab completion on your (less) favourite library (function)\n",
    "###"
   ]
  },
  {
   "cell_type": "markdown",
   "metadata": {},
   "source": [
    "### Output"
   ]
  },
  {
   "cell_type": "markdown",
   "metadata": {},
   "source": [
    "- When a cell is run it can generate output\n",
    "- This is shown below the cell in the output area\n",
    "- Output is asynchronous\n",
    "- Outputs are objects and the last one is available under the variable '_'"
   ]
  },
  {
   "cell_type": "code",
   "execution_count": 12,
   "metadata": {},
   "outputs": [
    {
     "data": {
      "text/plain": [
       "42"
      ]
     },
     "execution_count": 12,
     "metadata": {},
     "output_type": "execute_result"
    }
   ],
   "source": [
    "23 + 19"
   ]
  },
  {
   "cell_type": "code",
   "execution_count": 13,
   "metadata": {},
   "outputs": [
    {
     "name": "stdout",
     "output_type": "stream",
     "text": [
      "The Answer to the Ultimate Question of Life, the Universe, and Everything is 42.\n"
     ]
    }
   ],
   "source": [
    "print(f\"The Answer to the Ultimate Question of Life, the Universe, and Everything is {_}.\")"
   ]
  },
  {
   "cell_type": "markdown",
   "metadata": {},
   "source": [
    "- Output can be toggled on/off."
   ]
  },
  {
   "cell_type": "code",
   "execution_count": 14,
   "metadata": {},
   "outputs": [
    {
     "name": "stdout",
     "output_type": "stream",
     "text": [
      "0\n",
      "1\n",
      "2\n",
      "3\n",
      "4\n",
      "5\n",
      "6\n",
      "7\n",
      "8\n",
      "9\n",
      "10\n",
      "11\n",
      "12\n",
      "13\n",
      "14\n",
      "15\n",
      "16\n",
      "17\n",
      "18\n",
      "19\n",
      "20\n",
      "21\n",
      "22\n",
      "23\n",
      "24\n",
      "25\n",
      "26\n",
      "27\n",
      "28\n",
      "29\n",
      "30\n",
      "31\n",
      "32\n",
      "33\n",
      "34\n",
      "35\n",
      "36\n",
      "37\n",
      "38\n",
      "39\n",
      "40\n",
      "41\n",
      "42\n",
      "43\n",
      "44\n",
      "45\n",
      "46\n",
      "47\n",
      "48\n",
      "49\n",
      "50\n",
      "51\n",
      "52\n",
      "53\n",
      "54\n",
      "55\n",
      "56\n",
      "57\n",
      "58\n",
      "59\n",
      "60\n",
      "61\n",
      "62\n",
      "63\n",
      "64\n",
      "65\n",
      "66\n",
      "67\n",
      "68\n",
      "69\n",
      "70\n",
      "71\n",
      "72\n",
      "73\n",
      "74\n",
      "75\n",
      "76\n",
      "77\n",
      "78\n",
      "79\n",
      "80\n",
      "81\n",
      "82\n",
      "83\n",
      "84\n",
      "85\n",
      "86\n",
      "87\n",
      "88\n",
      "89\n",
      "90\n",
      "91\n",
      "92\n",
      "93\n",
      "94\n",
      "95\n",
      "96\n",
      "97\n",
      "98\n",
      "99\n"
     ]
    }
   ],
   "source": [
    "#\n",
    "# All output\n",
    "#\n",
    "for n in range(100): print(n)"
   ]
  },
  {
   "cell_type": "code",
   "execution_count": 15,
   "metadata": {
    "scrolled": true
   },
   "outputs": [
    {
     "name": "stdout",
     "output_type": "stream",
     "text": [
      "0\n",
      "1\n",
      "2\n",
      "3\n",
      "4\n",
      "5\n",
      "6\n",
      "7\n",
      "8\n",
      "9\n",
      "10\n",
      "11\n",
      "12\n",
      "13\n",
      "14\n",
      "15\n",
      "16\n",
      "17\n",
      "18\n",
      "19\n",
      "20\n",
      "21\n",
      "22\n",
      "23\n",
      "24\n",
      "25\n",
      "26\n",
      "27\n",
      "28\n",
      "29\n",
      "30\n",
      "31\n",
      "32\n",
      "33\n",
      "34\n",
      "35\n",
      "36\n",
      "37\n",
      "38\n",
      "39\n",
      "40\n",
      "41\n"
     ]
    }
   ],
   "source": [
    "#\n",
    "# Reduced (scroll) output\n",
    "#\n",
    "for n in range(42): print(n)"
   ]
  },
  {
   "cell_type": "code",
   "execution_count": 16,
   "metadata": {},
   "outputs": [],
   "source": [
    "# Preventing implicit output\n",
    "'Not interested in this output';"
   ]
  },
  {
   "cell_type": "markdown",
   "metadata": {},
   "source": [
    "### Exeptions"
   ]
  },
  {
   "cell_type": "code",
   "execution_count": 17,
   "metadata": {},
   "outputs": [
    {
     "ename": "ZeroDivisionError",
     "evalue": "division by zero",
     "output_type": "error",
     "traceback": [
      "\u001b[0;31m---------------------------------------------------------------------------\u001b[0m",
      "\u001b[0;31mZeroDivisionError\u001b[0m                         Traceback (most recent call last)",
      "Cell \u001b[0;32mIn[17], line 1\u001b[0m\n\u001b[0;32m----> 1\u001b[0m \u001b[38;5;241;43m42\u001b[39;49m\u001b[43m \u001b[49m\u001b[38;5;241;43m/\u001b[39;49m\u001b[43m \u001b[49m\u001b[38;5;241;43m0\u001b[39;49m\n",
      "\u001b[0;31mZeroDivisionError\u001b[0m: division by zero"
     ]
    }
   ],
   "source": [
    "42 / 0"
   ]
  },
  {
   "cell_type": "markdown",
   "metadata": {},
   "source": [
    "## Markdown cells"
   ]
  },
  {
   "cell_type": "markdown",
   "metadata": {},
   "source": [
    "Formatted **text** _can_ **_be_** to IPython Notebooks using Markdown cells.\n",
    "- Markdown is a popular markup language that is a superset of HTML.\n",
    "- Its specification can be found here: http://daringfireball.net/projects/markdown/\n",
    "\n",
    "To create a markdown cell:\n",
    "- First focus on the cell you want to format\n",
    "- Then select 'Markdown' the dropdown box in the toolbar or press 'm' in command mode\n",
    "- Note that you need to run a markdown cell to show the result\n",
    "  - Click 'play' or SHIFT+ENTER"
   ]
  },
  {
   "cell_type": "markdown",
   "metadata": {},
   "source": [
    "### Headers"
   ]
  },
  {
   "cell_type": "code",
   "execution_count": 18,
   "metadata": {},
   "outputs": [],
   "source": [
    "# Header 1\n",
    "## Header 2\n",
    "### Header 3"
   ]
  },
  {
   "cell_type": "markdown",
   "metadata": {},
   "source": [
    "### Lists"
   ]
  },
  {
   "cell_type": "markdown",
   "metadata": {},
   "source": [
    "- This\n",
    "  - is\n",
    "    - a\n",
    "      - list\n",
    "        - with\n",
    "          - sublists"
   ]
  },
  {
   "cell_type": "code",
   "execution_count": 19,
   "metadata": {},
   "outputs": [],
   "source": [
    "### !! Exercise !!\n",
    "###\n",
    "### Create some headings and lists to impress your neighbour\n",
    "###"
   ]
  },
  {
   "cell_type": "markdown",
   "metadata": {},
   "source": [
    "### Including (remote) images"
   ]
  },
  {
   "cell_type": "markdown",
   "metadata": {},
   "source": [
    "![LUMC](https://upload.wikimedia.org/wikipedia/en/f/fd/LUMC_logo.svg)"
   ]
  },
  {
   "cell_type": "code",
   "execution_count": 20,
   "metadata": {},
   "outputs": [],
   "source": [
    "### !! Exercise !!\n",
    "###\n",
    "### Embed a funny cat picture in your notebook. Bonus points for funny cat videos.\n",
    "###"
   ]
  },
  {
   "cell_type": "markdown",
   "metadata": {},
   "source": [
    "## LaTeX"
   ]
  },
  {
   "cell_type": "markdown",
   "metadata": {},
   "source": [
    "$$E = mc^{2}$$"
   ]
  },
  {
   "cell_type": "markdown",
   "metadata": {},
   "source": [
    "$$E = mc^{2}$$"
   ]
  },
  {
   "cell_type": "code",
   "execution_count": 21,
   "metadata": {},
   "outputs": [],
   "source": [
    "### !! Exercise !!\n",
    "###\n",
    "### Format your favourite equation in a markdown cell\n",
    "###"
   ]
  },
  {
   "cell_type": "markdown",
   "metadata": {},
   "source": [
    "## Magic"
   ]
  },
  {
   "cell_type": "code",
   "execution_count": null,
   "metadata": {},
   "outputs": [],
   "source": [
    "%lsmagic"
   ]
  },
  {
   "cell_type": "code",
   "execution_count": null,
   "metadata": {},
   "outputs": [],
   "source": [
    "%ls /"
   ]
  },
  {
   "cell_type": "markdown",
   "metadata": {},
   "source": [
    "## Shell execution"
   ]
  },
  {
   "cell_type": "code",
   "execution_count": null,
   "metadata": {},
   "outputs": [],
   "source": [
    "!ping -c 3 www.google.com"
   ]
  },
  {
   "cell_type": "code",
   "execution_count": null,
   "metadata": {},
   "outputs": [],
   "source": [
    "### !! Exercise !!\n",
    "###\n",
    "### Show the directory contents using shell execution\n",
    "###"
   ]
  },
  {
   "cell_type": "markdown",
   "metadata": {},
   "source": [
    "# Plotting"
   ]
  },
  {
   "cell_type": "code",
   "execution_count": 22,
   "metadata": {},
   "outputs": [
    {
     "data": {
      "image/png": "[encoded data removed]",
      "text/plain": [
       "<Figure size 640x480 with 1 Axes>"
      ]
     },
     "metadata": {},
     "output_type": "display_data"
    }
   ],
   "source": [
    "%matplotlib inline\n",
    "import matplotlib.pyplot as plt\n",
    "plt.plot([x**2 for x in range(100)])\n",
    "plt.show()"
   ]
  },
  {
   "cell_type": "code",
   "execution_count": 23,
   "metadata": {},
   "outputs": [],
   "source": [
    "### !! Exercise !!\n",
    "###\n",
    "### Create a plot of your favorite sequence or function\n",
    "###"
   ]
  },
  {
   "cell_type": "markdown",
   "metadata": {},
   "source": [
    "# Other possibilities"
   ]
  },
  {
   "cell_type": "markdown",
   "metadata": {},
   "source": [
    "- Create static pdf and html output\n",
    "- Use in presentation mode"
   ]
  },
  {
   "cell_type": "code",
   "execution_count": null,
   "metadata": {},
   "outputs": [],
   "source": []
  }
 ],
 "metadata": {
  "kernelspec": {
   "display_name": "Python 3 (ipykernel)",
   "language": "python",
   "name": "python3"
  },
  "language_info": {
   "codemirror_mode": {
    "name": "ipython",
    "version": 3
   },
   "file_extension": ".py",
   "mimetype": "text/x-python",
   "name": "python",
   "nbconvert_exporter": "python",
   "pygments_lexer": "ipython3",
   "version": "3.11.3"
  },
  "nav_menu": {},
  "toc": {
   "navigate_menu": true,
   "number_sections": true,
   "sideBar": true,
   "threshold": 6,
   "toc_cell": false,
   "toc_section_display": "block",
   "toc_window_display": false
  }
 },
 "nbformat": 4,
 "nbformat_minor": 4
}
